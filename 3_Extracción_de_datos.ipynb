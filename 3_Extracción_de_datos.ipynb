{
 "cells": [
  {
   "cell_type": "code",
   "execution_count": 33,
   "metadata": {},
   "outputs": [],
   "source": [
    "#Importo librerias\n",
    "import pandas as pd\n",
    "import numpy as np\n",
    "import matplotlib.pyplot as plt"
   ]
  },
  {
   "cell_type": "code",
   "execution_count": null,
   "metadata": {},
   "outputs": [],
   "source": [
    "#Leo mi archivo.csv\n",
    "Alumnos = pd.read_csv(\"MiClaseAnalitica.csv\")\n",
    "Alumnos"
   ]
  },
  {
   "cell_type": "code",
   "execution_count": null,
   "metadata": {},
   "outputs": [],
   "source": [
    "#Leo mi archivo.csv con indice\n",
    "Alumnos = pd.read_csv(\"MiClaseAnalitica.csv\", index_col=2)\n",
    "Alumnos"
   ]
  },
  {
   "cell_type": "code",
   "execution_count": null,
   "metadata": {},
   "outputs": [],
   "source": [
    "#Aplico filtro de cabecera modificando valor\n",
    "Alumnos.head(7)"
   ]
  },
  {
   "cell_type": "code",
   "execution_count": null,
   "metadata": {},
   "outputs": [],
   "source": [
    "#Aplico filtro de final modificando valor\n",
    "Alumnos.tail(7)"
   ]
  },
  {
   "cell_type": "code",
   "execution_count": null,
   "metadata": {},
   "outputs": [],
   "source": [
    "#Selecciono 1 sola columna \n",
    "Alum = Alumnos[\"Nombre\"]\n",
    "Alum"
   ]
  },
  {
   "cell_type": "code",
   "execution_count": null,
   "metadata": {},
   "outputs": [],
   "source": [
    "#Verifico la estructura del arreglo obtenido\n",
    "Alumnos[\"Nombre\"].shape"
   ]
  },
  {
   "cell_type": "code",
   "execution_count": null,
   "metadata": {},
   "outputs": [],
   "source": [
    "#Selecciono varias columnas\n",
    "Descrip = Alumnos[[\"Identificacion del SIS\", \"Nombre\", \"actividad\"]]\n",
    "Descrip"
   ]
  },
  {
   "cell_type": "code",
   "execution_count": null,
   "metadata": {},
   "outputs": [],
   "source": [
    "#Verifico la estructura del dataframe de 3 columnas\n",
    "Descrip.shape"
   ]
  },
  {
   "cell_type": "code",
   "execution_count": 14,
   "metadata": {},
   "outputs": [
    {
     "data": {
      "text/plain": [
       "(16,)"
      ]
     },
     "execution_count": 14,
     "metadata": {},
     "output_type": "execute_result"
    }
   ],
   "source": [
    "#Verifico la estructura del arreglo obtenido de forma mas simple\n",
    "Alum.shape"
   ]
  },
  {
   "cell_type": "code",
   "execution_count": 15,
   "metadata": {},
   "outputs": [
    {
     "data": {
      "text/plain": [
       "(16, 8)"
      ]
     },
     "execution_count": 15,
     "metadata": {},
     "output_type": "execute_result"
    }
   ],
   "source": [
    "#Verifico la estructura del dataframe completo\n",
    "Alumnos.shape"
   ]
  },
  {
   "cell_type": "code",
   "execution_count": null,
   "metadata": {},
   "outputs": [],
   "source": [
    "#Filtro solo estudiantes\n",
    "Estud = Alumnos[(Alumnos[\"actividad\"] == \"Estudiante\")]\n",
    "Estud"
   ]
  },
  {
   "cell_type": "code",
   "execution_count": null,
   "metadata": {},
   "outputs": [],
   "source": [
    "#Filtro columnas a partir de un dataframe filtrado\n",
    "Descrip1 = Estud[[\"Nombre\"]]\n",
    "Descrip = Estud[[\"Identificacion del SIS\", \"Nombre\", \"actividad\"]]\n",
    "Descrip"
   ]
  },
  {
   "cell_type": "code",
   "execution_count": null,
   "metadata": {},
   "outputs": [],
   "source": [
    "#Filtro filas y columnas consecutivas\n",
    "Alumnos.iloc[5:10, 2:4]"
   ]
  },
  {
   "cell_type": "code",
   "execution_count": null,
   "metadata": {},
   "outputs": [],
   "source": [
    "#Filtro filas y columnas no consecutivas\n",
    "Alumnos.iloc[[6,8,11,14], [0,4,6]]"
   ]
  },
  {
   "cell_type": "code",
   "execution_count": null,
   "metadata": {},
   "outputs": [],
   "source": [
    "#Crear un Dataframe a partir de varias listas\n",
    "df=pd.DataFrame(Estud)\n",
    "df"
   ]
  },
  {
   "cell_type": "code",
   "execution_count": 35,
   "metadata": {},
   "outputs": [
    {
     "name": "stdout",
     "output_type": "stream",
     "text": [
      "      Referencia Fecha Alta        Tipo Operación  Provincia  Superficie  \\\n",
      "0              1 2004-01-01     Parking  Alquiler     Lleida         291   \n",
      "1              2 2004-01-01       Local     Venta     Girona         199   \n",
      "2              3 2004-01-01     Oficina  Alquiler     Girona          82   \n",
      "3              4 2004-01-02     Parking  Alquiler     Girona         285   \n",
      "4              5 2004-01-02       Suelo     Venta  Tarragona         152   \n",
      "...          ...        ...         ...       ...        ...         ...   \n",
      "3332        3333 2007-04-29  Industrial  Alquiler     Lleida         221   \n",
      "3333        3334 2007-04-29        Piso  Alquiler     Girona          55   \n",
      "3334        3335 2007-04-30       Suelo     Venta  Tarragona          78   \n",
      "3335        3336 2007-04-30        Piso  Alquiler  Barcelona          88   \n",
      "3336        3337 2007-04-30     Parking     Venta     Lleida         254   \n",
      "\n",
      "      Precio Venta Fecha Venta Vendedor  \n",
      "0          2133903  2004-06-19   Carmen  \n",
      "1          1945424  2004-04-19    Pedro  \n",
      "2           712416  2004-11-08  Joaquín  \n",
      "3          1815450  2004-04-27    Jesús  \n",
      "4          1138024  2004-07-10    María  \n",
      "...            ...         ...      ...  \n",
      "3332       1450644         NaT      NaN  \n",
      "3333        454080         NaT      NaN  \n",
      "3334        740688         NaT      NaN  \n",
      "3335        397408         NaT      NaN  \n",
      "3336       2140712         NaT      NaN  \n",
      "\n",
      "[3337 rows x 9 columns]\n"
     ]
    }
   ],
   "source": [
    "#Crear un Dataframe a partir de fichero Excel\n",
    "# instala pip install openpyxl\n",
    "df = pd.read_excel('Inmuebles.xlsx')\n",
    "print (df)"
   ]
  },
  {
   "cell_type": "code",
   "execution_count": null,
   "metadata": {},
   "outputs": [],
   "source": [
    "#Realizamos grafica simple 2D\n",
    "x= Alumnos[\"Nombre\"]\n",
    "y= Alumnos[\"Seccion\"]\n",
    "plt.plot(x, y, '-')\n",
    "plt.title(\"Grafica de la clase 101\")\n",
    "plt.xlabel(\"Nombre\", size = 10,)\n",
    "plt.ylabel(\"Seccion\", size = 16,)\n",
    "plt.show()"
   ]
  }
 ],
 "metadata": {
  "kernelspec": {
   "display_name": "Python 3.10.5 64-bit",
   "language": "python",
   "name": "python3"
  },
  "language_info": {
   "codemirror_mode": {
    "name": "ipython",
    "version": 3
   },
   "file_extension": ".py",
   "mimetype": "text/x-python",
   "name": "python",
   "nbconvert_exporter": "python",
   "pygments_lexer": "ipython3",
   "version": "3.10.5"
  },
  "orig_nbformat": 4,
  "vscode": {
   "interpreter": {
    "hash": "288c238ce2899bcc3e53ea200982fe7d0cffe90b866b3340c82b9d43e231a928"
   }
  }
 },
 "nbformat": 4,
 "nbformat_minor": 2
}
