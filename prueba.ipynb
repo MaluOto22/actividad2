{
 "cells": [
  {
   "cell_type": "code",
   "execution_count": null,
   "metadata": {},
   "outputs": [],
   "source": [
    "modificacion 1\n",
    "nxjnjsnssjxsjxn\n",
    "snmjsnjsjssnsksjs "
   ]
  }
 ],
 "metadata": {
  "kernelspec": {
   "display_name": "Python 3.10.5 64-bit",
   "language": "python",
   "name": "python3"
  },
  "language_info": {
   "name": "python",
   "version": "3.10.5"
  },
  "orig_nbformat": 4,
  "vscode": {
   "interpreter": {
    "hash": "288c238ce2899bcc3e53ea200982fe7d0cffe90b866b3340c82b9d43e231a928"
   }
  }
 },
 "nbformat": 4,
 "nbformat_minor": 2
}
