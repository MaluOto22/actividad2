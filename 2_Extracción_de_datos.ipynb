{
  "nbformat": 4,
  "nbformat_minor": 0,
  "metadata": {
    "colab": {
      "name": "2 Extracción de datos.ipynb",
      "provenance": [],
      "collapsed_sections": [],
      "authorship_tag": "ABX9TyMk6LRdKO9gw+3ZVfWBVnBH",
      "include_colab_link": true
    },
    "kernelspec": {
      "name": "python3",
      "display_name": "Python 3"
    },
    "language_info": {
      "name": "python"
    }
  },
  "cells": [
    {
      "cell_type": "markdown",
      "metadata": {
        "id": "view-in-github",
        "colab_type": "text"
      },
      "source": [
        "<a href=\"https://colab.research.google.com/github/freddy-7/proyecto1/blob/main/2_Extracci%C3%B3n_de_datos.ipynb\" target=\"_parent\"><img src=\"https://colab.research.google.com/assets/colab-badge.svg\" alt=\"Open In Colab\"/></a>"
      ]
    },
    {
      "cell_type": "code",
      "execution_count": null,
      "metadata": {
        "id": "PPeutbJAKbes"
      },
      "outputs": [],
      "source": [
        "#INSTALAR LIBRERIAS\n",
        "!pip install pandas\n",
        "!pip install numpy\n",
        "!pip install matplotlib\n"
      ]
    },
    {
      "cell_type": "code",
      "source": [
        "#Importamos el archivo de datos\n",
        "from google.colab import files \n",
        "uploaded = files.upload()"
      ],
      "metadata": {
        "id": "TSBbmVZly174"
      },
      "execution_count": null,
      "outputs": []
    },
    {
      "cell_type": "code",
      "source": [
        "\t\n",
        "#Importamos la librería: pandas\n",
        "import pandas as pd \n",
        "import io \n",
        "\n",
        "#Leemos el contenido del archivo\n",
        "df = pd.read_csv(io.BytesIO(uploaded['file.csv']), index_col=2) \n",
        "#df = pd.read_csv('file.csv') \n",
        "df.info()\n",
        "df\n",
        "\n",
        "#Importar archivo desde Github\n",
        "#url = 'copied_raw_github_link'\n",
        "#df = pd.read_csv(url)"
      ],
      "metadata": {
        "id": "xdr8v0CWLv0h"
      },
      "execution_count": null,
      "outputs": []
    },
    {
      "cell_type": "code",
      "source": [
        "#FILTROS BASICOS PARA VARIABLES CUALITATIVAS\n",
        "#Filtro por objeto \n",
        "filtro1=df[df[\"Sexo\"] == \"Mujeres\"]\n",
        "filtro1"
      ],
      "metadata": {
        "id": "JArQ2_QWNMNp"
      },
      "execution_count": null,
      "outputs": []
    },
    {
      "cell_type": "code",
      "source": [
        "#Filtro por filas\n",
        "#filtro2= df.iloc[300:302,: ]\n",
        "filtro2=df.iloc[ [1000, 2000, 3000] , : ]  #filas no consecutivas \n",
        "filtro2"
      ],
      "metadata": {
        "id": "sa0UEmbAHlYW"
      },
      "execution_count": null,
      "outputs": []
    },
    {
      "cell_type": "code",
      "source": [
        "#Filtro por columnas\n",
        "filtro3=df.iloc[ : , 4:7]\n",
        "#filtro3=df.iloc[ : , [1,4,6]]  #columnas no consecutivas \n",
        "filtro3"
      ],
      "metadata": {
        "id": "2me_Vx28IenZ"
      },
      "execution_count": null,
      "outputs": []
    },
    {
      "cell_type": "code",
      "source": [
        "#Filtro de filas vs columnas \n",
        "filtro4=df.loc[[\"Puebla\",\"Durango\"], [\"Poblacion_ocupada_en_la_industria_manufacturera\"]]\n",
        "filtro4"
      ],
      "metadata": {
        "id": "av4AQcmBJNlW"
      },
      "execution_count": null,
      "outputs": []
    },
    {
      "cell_type": "code",
      "source": [
        "#Filtro por cabecera\n",
        "filtro5=df.head()\n",
        "filtro5"
      ],
      "metadata": {
        "id": "ue6rj71hQt1K"
      },
      "execution_count": null,
      "outputs": []
    },
    {
      "cell_type": "code",
      "source": [
        "#FILTROS BASICOS PARA VARIABLES CUANTITATIVAS\n",
        "#Filtro por comparacion\n",
        "filtro6=df[df[\"Periodo\"] > 2006]\n",
        "filtro6"
      ],
      "metadata": {
        "id": "o7O1HqtwTI3A"
      },
      "execution_count": null,
      "outputs": []
    },
    {
      "cell_type": "code",
      "source": [
        "#FILTROS BASICOS CON CONETORES LOGICOS\n",
        "#Filtro Y\n",
        "filtro7=df[(df[\"Periodo\"] > 2006) & (df[\"Sexo\"] == \"Mujeres\")]\n",
        "filtro7"
      ],
      "metadata": {
        "id": "DoHnJaYAX0mO"
      },
      "execution_count": null,
      "outputs": []
    },
    {
      "cell_type": "code",
      "source": [
        "#Filtro o\n",
        "filtro8=df[(df[\"Periodo\"] > 2006) | (df[\"Sexo\"] == \"Mujeres\")]\n",
        "filtro8"
      ],
      "metadata": {
        "id": "56ZWT7wznlNr"
      },
      "execution_count": null,
      "outputs": []
    },
    {
      "cell_type": "code",
      "source": [
        "#Filtro not\n",
        "filtro9=df[~(df[\"Periodo\"] >= 2006) & (df[\"Sexo\"] == \"Mujeres\")]\n",
        "filtro9"
      ],
      "metadata": {
        "id": "8Dh5Dwnhoybi"
      },
      "execution_count": null,
      "outputs": []
    },
    {
      "cell_type": "code",
      "source": [
        "#Convertir archivo filtrado a CSV\n",
        "filtro9.to_csv(\"Entregable1.csv\")"
      ],
      "metadata": {
        "id": "SeaP15aRsebH"
      },
      "execution_count": null,
      "outputs": []
    },
    {
      "cell_type": "code",
      "source": [
        "#descardar archivo filtrado en csv\n",
        "from google.colab import files \n",
        "  \n",
        "  \n",
        "files.download(\"Entregable1.csv\")"
      ],
      "metadata": {
        "colab": {
          "base_uri": "https://localhost:8080/",
          "height": 17
        },
        "id": "jmNO1Gohsfbq",
        "outputId": "0e308c08-302a-424b-cacb-9348ca91445b"
      },
      "execution_count": null,
      "outputs": [
        {
          "output_type": "display_data",
          "data": {
            "text/plain": [
              "<IPython.core.display.Javascript object>"
            ],
            "application/javascript": [
              "\n",
              "    async function download(id, filename, size) {\n",
              "      if (!google.colab.kernel.accessAllowed) {\n",
              "        return;\n",
              "      }\n",
              "      const div = document.createElement('div');\n",
              "      const label = document.createElement('label');\n",
              "      label.textContent = `Downloading \"${filename}\": `;\n",
              "      div.appendChild(label);\n",
              "      const progress = document.createElement('progress');\n",
              "      progress.max = size;\n",
              "      div.appendChild(progress);\n",
              "      document.body.appendChild(div);\n",
              "\n",
              "      const buffers = [];\n",
              "      let downloaded = 0;\n",
              "\n",
              "      const channel = await google.colab.kernel.comms.open(id);\n",
              "      // Send a message to notify the kernel that we're ready.\n",
              "      channel.send({})\n",
              "\n",
              "      for await (const message of channel.messages) {\n",
              "        // Send a message to notify the kernel that we're ready.\n",
              "        channel.send({})\n",
              "        if (message.buffers) {\n",
              "          for (const buffer of message.buffers) {\n",
              "            buffers.push(buffer);\n",
              "            downloaded += buffer.byteLength;\n",
              "            progress.value = downloaded;\n",
              "          }\n",
              "        }\n",
              "      }\n",
              "      const blob = new Blob(buffers, {type: 'application/binary'});\n",
              "      const a = document.createElement('a');\n",
              "      a.href = window.URL.createObjectURL(blob);\n",
              "      a.download = filename;\n",
              "      div.appendChild(a);\n",
              "      a.click();\n",
              "      div.remove();\n",
              "    }\n",
              "  "
            ]
          },
          "metadata": {}
        },
        {
          "output_type": "display_data",
          "data": {
            "text/plain": [
              "<IPython.core.display.Javascript object>"
            ],
            "application/javascript": [
              "download(\"download_ea61c8eb-4ae8-4bed-a44f-e1bda6107c41\", \"Entregable1.csv\", 8527)"
            ]
          },
          "metadata": {}
        }
      ]
    },
    {
      "cell_type": "code",
      "source": [
        "#!pip install pyod  # instala la librería\n",
        "#from pyod.models.knn import KNN\n",
        "#import pandas as pd\n",
        " \n",
        "#X = pd.DataFrame(df={'Poblacion_ocupada_en_la_industria_manufacturera':Poblacion,'Poblaci n_ocupada,Tasa_de_ocupaci n_en_la_industria_manufacturera':Tasa})\n",
        " \n",
        "#clf = KNN(contamination=0.18)\n",
        "#clf.fit(X)\n",
        "#y_pred = clf.predict(X)\n",
        "#X[y_pred == 1]"
      ],
      "metadata": {
        "id": "sljeQx_GwjKC"
      },
      "execution_count": null,
      "outputs": []
    }
  ]
}