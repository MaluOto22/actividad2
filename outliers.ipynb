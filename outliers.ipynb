{
 "cells": [
  {
   "cell_type": "code",
   "execution_count": 1,
   "metadata": {},
   "outputs": [],
   "source": [
    "#!pip install pyod  # instala la librería\n",
    "\n",
    "from pyod.models.knn import KNN\n",
    "import pandas as pd"
   ]
  },
  {
   "cell_type": "code",
   "execution_count": null,
   "metadata": {},
   "outputs": [],
   "source": [
    "df = pd.read_excel('Inmuebles.xlsx')\n",
    "print (df)"
   ]
  },
  {
   "cell_type": "code",
   "execution_count": null,
   "metadata": {},
   "outputs": [],
   "source": [
    "#Filtro por columnas\n",
    "df_filtrado=df.iloc[ : , [6]]  #columnas no consecutivas \n",
    "df_filtrado"
   ]
  },
  {
   "cell_type": "code",
   "execution_count": 61,
   "metadata": {},
   "outputs": [],
   "source": [
    "clf = KNN(contamination=0.20)"
   ]
  },
  {
   "cell_type": "code",
   "execution_count": null,
   "metadata": {},
   "outputs": [],
   "source": [
    "clf.fit(df_filtrado)\n",
    "y_pred = clf.predict(df_filtrado)\n",
    "outliers= df_filtrado[y_pred == 1]\n",
    "outliers\n"
   ]
  },
  {
   "cell_type": "code",
   "execution_count": null,
   "metadata": {},
   "outputs": [],
   "source": [
    "#Graficar arreglo 1D\n",
    "import numpy as np\n",
    "import matplotlib.pyplot as plt\n",
    " \n",
    "x = np.array(range(0, 448))\n",
    "y = outliers\n",
    "plt.title(\"Plotting 1-D array\")\n",
    "plt.xlabel(\"X axis\")\n",
    "plt.ylabel(\"Y axis\")\n",
    "plt.plot(x, y, color = \"red\", marker = \"o\", label = \"Array elements\")\n",
    "plt.legend()\n",
    "plt.show()"
   ]
  },
  {
   "cell_type": "code",
   "execution_count": null,
   "metadata": {},
   "outputs": [],
   "source": [
    "#graficar arreglo 2D de todos los datos\n",
    "x1= np.array(range(0, 3337))\n",
    "plt.scatter(x1, df_filtrado)\n",
    "plt.show"
   ]
  },
  {
   "cell_type": "code",
   "execution_count": null,
   "metadata": {},
   "outputs": [],
   "source": [
    "#graficar arreglo 2D\n",
    "plt.scatter(x, y)\n",
    "plt.show"
   ]
  }
 ],
 "metadata": {
  "kernelspec": {
   "display_name": "Python 3.10.5 64-bit",
   "language": "python",
   "name": "python3"
  },
  "language_info": {
   "codemirror_mode": {
    "name": "ipython",
    "version": 3
   },
   "file_extension": ".py",
   "mimetype": "text/x-python",
   "name": "python",
   "nbconvert_exporter": "python",
   "pygments_lexer": "ipython3",
   "version": "3.10.5"
  },
  "orig_nbformat": 4,
  "vscode": {
   "interpreter": {
    "hash": "288c238ce2899bcc3e53ea200982fe7d0cffe90b866b3340c82b9d43e231a928"
   }
  }
 },
 "nbformat": 4,
 "nbformat_minor": 2
}
