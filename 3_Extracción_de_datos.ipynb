{
 "cells": [
  {
   "cell_type": "code",
   "execution_count": 33,
   "metadata": {},
   "outputs": [],
   "source": [
    "#Importo librerias\n",
    "import pandas as pd\n",
    "import numpy as np\n",
    "import matplotlib.pyplot as plt"
   ]
  },
  {
   "cell_type": "code",
   "execution_count": null,
   "metadata": {},
   "outputs": [],
   "source": [
    "#Leo mi archivo.csv\n",
    "Alumnos = pd.read_csv(\"MiClaseAnalitica.csv\")\n",
    "Alumnos"
   ]
  },
  {
   "cell_type": "code",
   "execution_count": null,
   "metadata": {},
   "outputs": [],
   "source": [
    "#Leo mi archivo.csv con indice\n",
    "Alumnos = pd.read_csv(\"MiClaseAnalitica.csv\", index_col=2)\n",
    "Alumnos"
   ]
  },
  {
   "cell_type": "code",
   "execution_count": null,
   "metadata": {},
   "outputs": [],
   "source": [
    "#Aplico filtro de cabecera modificando valor\n",
    "Alumnos.head(7)"
   ]
  },
  {
   "cell_type": "code",
   "execution_count": null,
   "metadata": {},
   "outputs": [],
   "source": [
    "#Aplico filtro de final modificando valor\n",
    "Alumnos.tail(7)"
   ]
  },
  {
   "cell_type": "code",
   "execution_count": null,
   "metadata": {},
   "outputs": [],
   "source": [
    "#Selecciono 1 sola columna \n",
    "Alum = Alumnos[\"Nombre\"]\n",
    "Alum"
   ]
  },
  {
   "cell_type": "code",
   "execution_count": null,
   "metadata": {},
   "outputs": [],
   "source": [
    "#Verifico la estructura del arreglo obtenido\n",
    "Alumnos[\"Nombre\"].shape"
   ]
  },
  {
   "cell_type": "code",
   "execution_count": null,
   "metadata": {},
   "outputs": [],
   "source": [
    "#Selecciono varias columnas\n",
    "Descrip = Alumnos[[\"Identificacion del SIS\", \"Nombre\", \"actividad\"]]\n",
    "Descrip"
   ]
  },
  {
   "cell_type": "code",
   "execution_count": null,
   "metadata": {},
   "outputs": [],
   "source": [
    "#Verifico la estructura del dataframe de 3 columnas\n",
    "Descrip.shape"
   ]
  },
  {
   "cell_type": "code",
   "execution_count": 14,
   "metadata": {},
   "outputs": [
    {
     "data": {
      "text/plain": [
       "(16,)"
      ]
     },
     "execution_count": 14,
     "metadata": {},
     "output_type": "execute_result"
    }
   ],
   "source": [
    "#Verifico la estructura del arreglo obtenido de forma mas simple\n",
    "Alum.shape"
   ]
  },
  {
   "cell_type": "code",
   "execution_count": 15,
   "metadata": {},
   "outputs": [
    {
     "data": {
      "text/plain": [
       "(16, 8)"
      ]
     },
     "execution_count": 15,
     "metadata": {},
     "output_type": "execute_result"
    }
   ],
   "source": [
    "#Verifico la estructura del dataframe completo\n",
    "Alumnos.shape"
   ]
  },
  {
   "cell_type": "code",
   "execution_count": null,
   "metadata": {},
   "outputs": [],
   "source": [
    "#Filtro solo estudiantes\n",
    "Estud = Alumnos[(Alumnos[\"actividad\"] == \"Estudiante\")]\n",
    "Estud"
   ]
  },
  {
   "cell_type": "code",
   "execution_count": null,
   "metadata": {},
   "outputs": [],
   "source": [
    "#Filtro columnas a partir de un dataframe filtrado\n",
    "Descrip1 = Estud[[\"Nombre\"]]\n",
    "Descrip = Estud[[\"Identificacion del SIS\", \"Nombre\", \"actividad\"]]\n",
    "Descrip"
   ]
  },
  {
   "cell_type": "code",
   "execution_count": null,
   "metadata": {},
   "outputs": [],
   "source": [
    "#Filtro filas y columnas consecutivas\n",
    "Alumnos.iloc[5:10, 2:4]"
   ]
  },
  {
   "cell_type": "code",
   "execution_count": null,
   "metadata": {},
   "outputs": [],
   "source": [
    "#Filtro filas y columnas no consecutivas\n",
    "Alumnos.iloc[[6,8,11,14], [0,4,6]]"
   ]
  },
  {
   "cell_type": "code",
   "execution_count": null,
   "metadata": {},
   "outputs": [],
   "source": [
    "#Crear un Dataframe a partir de varias listas\n",
    "df=pd.DataFrame(Estud)\n",
    "df"
   ]
  },
  {
   "cell_type": "code",
   "execution_count": null,
   "metadata": {},
   "outputs": [],
   "source": [
    "#Crear un Dataframe a partir de fichero Excel\n",
    "# instala pip install openpyxl\n",
    "df = pd.read_excel('Inmuebles.xlsx')\n",
    "print (df)"
   ]
  },
  {
   "cell_type": "code",
   "execution_count": null,
   "metadata": {},
   "outputs": [],
   "source": [
    "#Realizamos grafica simple 2D\n",
    "x= Alumnos[\"Nombre\"]\n",
    "y= Alumnos[\"Seccion\"]\n",
    "plt.plot(x, y, '-')\n",
    "plt.title(\"Grafica de la clase 101\")\n",
    "plt.xlabel(\"Nombre\", size = 10,)\n",
    "plt.ylabel(\"Seccion\", size = 16,)\n",
    "plt.show()"
   ]
  }
 ],
 "metadata": {
  "kernelspec": {
   "display_name": "Python 3.10.5 64-bit",
   "language": "python",
   "name": "python3"
  },
  "language_info": {
   "codemirror_mode": {
    "name": "ipython",
    "version": 3
   },
   "file_extension": ".py",
   "mimetype": "text/x-python",
   "name": "python",
   "nbconvert_exporter": "python",
   "pygments_lexer": "ipython3",
   "version": "3.10.5"
  },
  "orig_nbformat": 4,
  "vscode": {
   "interpreter": {
    "hash": "288c238ce2899bcc3e53ea200982fe7d0cffe90b866b3340c82b9d43e231a928"
   }
  }
 },
 "nbformat": 4,
 "nbformat_minor": 2
}
